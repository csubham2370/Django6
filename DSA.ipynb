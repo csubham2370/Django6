{
  "nbformat": 4,
  "nbformat_minor": 0,
  "metadata": {
    "colab": {
      "provenance": [],
      "authorship_tag": "ABX9TyOumzUUomIPhMN5hqBJiHdi",
      "include_colab_link": true
    },
    "kernelspec": {
      "name": "python3",
      "display_name": "Python 3"
    },
    "language_info": {
      "name": "python"
    }
  },
  "cells": [
    {
      "cell_type": "markdown",
      "metadata": {
        "id": "view-in-github",
        "colab_type": "text"
      },
      "source": [
        "<a href=\"https://colab.research.google.com/github/csubham2370/Django6/blob/main/DSA.ipynb\" target=\"_parent\"><img src=\"https://colab.research.google.com/assets/colab-badge.svg\" alt=\"Open In Colab\"/></a>"
      ]
    },
    {
      "cell_type": "markdown",
      "source": [
        "**Single Linked list**\n",
        "\n",
        "![singly-linkedlist (1).png](data:image/png;base64,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)"
      ],
      "metadata": {
        "id": "T55IN7MjsLN6"
      }
    },
    {
      "cell_type": "code",
      "source": [
        "# Here we create Node class.     __init__ is python constractor.\n",
        "\n",
        "class Node:\n",
        "  def __init__(self,data):\n",
        "    self.data=data\n",
        "    self.next=None\n",
        "\n",
        "# Here we create Single linked list class.\n",
        "\n",
        "class SLL:\n",
        "\n",
        "# here we create a head of linked list.\n",
        "  def __init__(self):\n",
        "    self.head=None\n",
        "\n",
        "# Insert funcation this is use to insert the node at the end of the node or linked list.\n",
        "  def insert_at_end(self,data):\n",
        "    new=Node(data)\n",
        "\n",
        "    if self.head==None:\n",
        "      self.head=new\n",
        "      new.next=None\n",
        "\n",
        "    else:\n",
        "      temp=self.head\n",
        "      while temp.next!=None:\n",
        "        temp=temp.next\n",
        "      temp.next=new\n",
        "      new.next=None\n",
        "\n",
        "# This funcation is use for the insert the node at beginning of the linked list.\n",
        "  def insert_at_beg(self,data):\n",
        "    new=Node(data)\n",
        "    new.next=self.head\n",
        "    self.head=new\n",
        "\n",
        "# Insert at any position of the linked list.\n",
        "  def insert_at_any_pos(self,pos,data):\n",
        "\n",
        "    try:\n",
        "\n",
        "         new=Node(data)\n",
        "\n",
        "         if pos<1:\n",
        "           print(\"Inalid position!!!\")\n",
        "\n",
        "         elif pos == 1:\n",
        "           new.next=self.head\n",
        "           self.head=new\n",
        "\n",
        "         else:\n",
        "                 temp=self.head\n",
        "                 for i in range(1,pos-1):\n",
        "                      temp=temp.next\n",
        "                 new.next=temp.next\n",
        "                 temp.next=new\n",
        "\n",
        "    except Exception:\n",
        "      print(\"Invalid position!!!\")\n",
        "\n",
        "# Delete at the first position of linked list.\n",
        "  def delete_at_1st(self):\n",
        "    self.head=self.head.next\n",
        "\n",
        "# Delete at last position.\n",
        "  def delete_at_last(self):\n",
        "    temp=self.head\n",
        "    while temp.next.next!=None:\n",
        "      temp=temp.next\n",
        "    temp.next=None\n",
        "\n",
        "# Delete at any position.\n",
        "\n",
        "  def delete_at_any_pos(self,pos):\n",
        "    temp=self.head\n",
        "\n",
        "    if pos<1:\n",
        "      print(\"invalid position!!!\")\n",
        "    elif pos==1:\n",
        "      self.head=self.head.next\n",
        "    else:\n",
        "\n",
        "      try:\n",
        "\n",
        "        for i in range(1,pos-1):\n",
        "          temp=temp.next\n",
        "        temp2=temp.next\n",
        "        temp.next=temp.next.next\n",
        "        temp2=None\n",
        "\n",
        "      except Exception:\n",
        "        print(\"Invalid position!!!\")\n",
        "\n",
        "\n",
        "# It's a show funcation this is use for display the entier linked list with nodes.\n",
        "  def show(self):\n",
        "\n",
        "    if self.head==None:\n",
        "      print(\"Empty SLL!!!\")\n",
        "    else:\n",
        "      temp=self.head\n",
        "      while temp:\n",
        "\n",
        "        print(temp.data,end='-->')\n",
        "        temp=temp.next\n",
        "\n",
        "\n",
        "ob=SLL()\n",
        "ob.insert_at_end(10)\n",
        "ob.insert_at_end(20)\n",
        "ob.insert_at_end(30)\n",
        "ob.insert_at_end(40)\n",
        "# ob.insert_at_beg(5)\n",
        "# ob.insert_at_any_pos(3,100)\n",
        "# ob.delete_1st()\n",
        "# ob.delete_at_last()\n",
        "ob.delete_at_any_pos(1)\n",
        "ob.show()"
      ],
      "metadata": {
        "colab": {
          "base_uri": "https://localhost:8080/"
        },
        "id": "U0LJIYiYsU8W",
        "outputId": "10e30f9b-f866-426b-cef4-8f4c933c4741"
      },
      "execution_count": 50,
      "outputs": [
        {
          "output_type": "stream",
          "name": "stdout",
          "text": [
            "20-->30-->40-->"
          ]
        }
      ]
    }
  ]
}